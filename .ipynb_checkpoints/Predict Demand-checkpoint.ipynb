{
 "cells": [
  {
   "cell_type": "markdown",
   "metadata": {},
   "source": [
    "<h1>Introduction</h1>\n",
    "<p>Hello all! In this notebook I'm going to analyze different products data and implement multiple \n",
    "    Machine Learning algorithms to predict the Demand of each Product</p>\n",
    "<h3>My main objectives on this project are:</h3>   \n",
    "<ul>\n",
    "    <li>Applying exploratory data analysis and trying to get some insights about our dataset</li>\n",
    "    <li>Getting data in better shape by transforming and feature engineering to help us in building better models</li>\n",
    "    <li>Building and tuning a XGBRegressor to get some results on predicting Demand</li>\n",
    "</ul>"
   ]
  },
  {
   "cell_type": "markdown",
   "metadata": {},
   "source": [
    "<h2>Importing Libraries</h2>\n",
    "<p>Lets start by importing some packages we are going to need</p>"
   ]
  },
  {
   "cell_type": "code",
   "execution_count": 1,
   "metadata": {},
   "outputs": [
    {
     "name": "stderr",
     "output_type": "stream",
     "text": [
      "C:\\Users\\Juan\\.conda\\envs\\tf-gpu\\lib\\importlib\\_bootstrap.py:219: RuntimeWarning: numpy.ufunc size changed, may indicate binary incompatibility. Expected 192 from C header, got 216 from PyObject\n",
      "  return f(*args, **kwds)\n",
      "C:\\Users\\Juan\\.conda\\envs\\tf-gpu\\lib\\importlib\\_bootstrap.py:219: RuntimeWarning: numpy.ufunc size changed, may indicate binary incompatibility. Expected 192 from C header, got 216 from PyObject\n",
      "  return f(*args, **kwds)\n",
      "C:\\Users\\Juan\\.conda\\envs\\tf-gpu\\lib\\importlib\\_bootstrap.py:219: RuntimeWarning: numpy.ufunc size changed, may indicate binary incompatibility. Expected 192 from C header, got 216 from PyObject\n",
      "  return f(*args, **kwds)\n"
     ]
    }
   ],
   "source": [
    "import os\n",
    "import numpy as np\n",
    "import pandas as pd\n",
    "import matplotlib.pyplot as plt\n",
    "import matplotlib.gridspec as gridspec\n",
    "from matplotlib.ticker import MaxNLocator\n",
    "import seaborn as sns"
   ]
  },
  {
   "cell_type": "markdown",
   "metadata": {},
   "source": [
    "<h2>Meeting the data</h2>\n",
    "<p>Lets open the data and see what we have</p>"
   ]
  },
  {
   "cell_type": "code",
   "execution_count": 2,
   "metadata": {},
   "outputs": [],
   "source": [
    "#Opening the data\n",
    "originalTrain = pd.read_csv(\"./train.csv\")\n",
    "originalTest = pd.read_csv(\"./test.csv\")"
   ]
  },
  {
   "cell_type": "code",
   "execution_count": 3,
   "metadata": {},
   "outputs": [
    {
     "data": {
      "text/plain": [
       "((7560, 12), (1080, 12))"
      ]
     },
     "execution_count": 3,
     "metadata": {},
     "output_type": "execute_result"
    }
   ],
   "source": [
    "#Lets see the shapes of the data so we know what we are dealing with\n",
    "originalTrain.shape, originalTest.shape"
   ]
  },
  {
   "cell_type": "markdown",
   "metadata": {},
   "source": [
    "<p>We can see that we have 7560 rows on the train dataframe, and 1080 rows on the test dataframe, both with 12 columns.\n",
    "\n",
    "With that information, we can already calculate the distribution of train - test data:\n",
    "percentage_train_rows = 7560*100/(7560+1080) = 87.5%\n",
    "percentage_test_rows = 100% - 87.5% = 12.5%\n",
    "7/8 of the dataset belongs to train data and the remaining 1/8 belongs to test data\n",
    "\n",
    "Now lets observe some of their elements</p>"
   ]
  },
  {
   "cell_type": "code",
   "execution_count": 4,
   "metadata": {},
   "outputs": [
    {
     "data": {
      "text/html": [
       "<div>\n",
       "<style scoped>\n",
       "    .dataframe tbody tr th:only-of-type {\n",
       "        vertical-align: middle;\n",
       "    }\n",
       "\n",
       "    .dataframe tbody tr th {\n",
       "        vertical-align: top;\n",
       "    }\n",
       "\n",
       "    .dataframe thead th {\n",
       "        text-align: right;\n",
       "    }\n",
       "</style>\n",
       "<table border=\"1\" class=\"dataframe\">\n",
       "  <thead>\n",
       "    <tr style=\"text-align: right;\">\n",
       "      <th></th>\n",
       "      <th>id</th>\n",
       "      <th>date</th>\n",
       "      <th>city</th>\n",
       "      <th>lat</th>\n",
       "      <th>long</th>\n",
       "      <th>pop</th>\n",
       "      <th>shop</th>\n",
       "      <th>brand</th>\n",
       "      <th>container</th>\n",
       "      <th>capacity</th>\n",
       "      <th>price</th>\n",
       "      <th>quantity</th>\n",
       "    </tr>\n",
       "  </thead>\n",
       "  <tbody>\n",
       "    <tr>\n",
       "      <th>0</th>\n",
       "      <td>0.0</td>\n",
       "      <td>31/01/12</td>\n",
       "      <td>Athens</td>\n",
       "      <td>37.97945</td>\n",
       "      <td>23.71622</td>\n",
       "      <td>672130.0</td>\n",
       "      <td>shop_1</td>\n",
       "      <td>kinder-cola</td>\n",
       "      <td>glass</td>\n",
       "      <td>500ml</td>\n",
       "      <td>0.96</td>\n",
       "      <td>13280.0</td>\n",
       "    </tr>\n",
       "    <tr>\n",
       "      <th>1</th>\n",
       "      <td>1.0</td>\n",
       "      <td>31/01/12</td>\n",
       "      <td>Athens</td>\n",
       "      <td>37.97945</td>\n",
       "      <td>23.71622</td>\n",
       "      <td>672130.0</td>\n",
       "      <td>shop_1</td>\n",
       "      <td>kinder-cola</td>\n",
       "      <td>plastic</td>\n",
       "      <td>1.5lt</td>\n",
       "      <td>2.86</td>\n",
       "      <td>6727.0</td>\n",
       "    </tr>\n",
       "    <tr>\n",
       "      <th>2</th>\n",
       "      <td>2.0</td>\n",
       "      <td>31/01/12</td>\n",
       "      <td>Athens</td>\n",
       "      <td>37.97945</td>\n",
       "      <td>23.71622</td>\n",
       "      <td>672130.0</td>\n",
       "      <td>shop_1</td>\n",
       "      <td>kinder-cola</td>\n",
       "      <td>can</td>\n",
       "      <td>330ml</td>\n",
       "      <td>0.87</td>\n",
       "      <td>9848.0</td>\n",
       "    </tr>\n",
       "    <tr>\n",
       "      <th>3</th>\n",
       "      <td>3.0</td>\n",
       "      <td>31/01/12</td>\n",
       "      <td>Athens</td>\n",
       "      <td>37.97945</td>\n",
       "      <td>23.71622</td>\n",
       "      <td>672130.0</td>\n",
       "      <td>shop_1</td>\n",
       "      <td>adult-cola</td>\n",
       "      <td>glass</td>\n",
       "      <td>500ml</td>\n",
       "      <td>1.00</td>\n",
       "      <td>20050.0</td>\n",
       "    </tr>\n",
       "    <tr>\n",
       "      <th>4</th>\n",
       "      <td>4.0</td>\n",
       "      <td>31/01/12</td>\n",
       "      <td>Athens</td>\n",
       "      <td>37.97945</td>\n",
       "      <td>23.71622</td>\n",
       "      <td>672130.0</td>\n",
       "      <td>shop_1</td>\n",
       "      <td>adult-cola</td>\n",
       "      <td>can</td>\n",
       "      <td>330ml</td>\n",
       "      <td>0.39</td>\n",
       "      <td>25696.0</td>\n",
       "    </tr>\n",
       "  </tbody>\n",
       "</table>\n",
       "</div>"
      ],
      "text/plain": [
       "    id      date    city       lat      long       pop    shop        brand  \\\n",
       "0  0.0  31/01/12  Athens  37.97945  23.71622  672130.0  shop_1  kinder-cola   \n",
       "1  1.0  31/01/12  Athens  37.97945  23.71622  672130.0  shop_1  kinder-cola   \n",
       "2  2.0  31/01/12  Athens  37.97945  23.71622  672130.0  shop_1  kinder-cola   \n",
       "3  3.0  31/01/12  Athens  37.97945  23.71622  672130.0  shop_1   adult-cola   \n",
       "4  4.0  31/01/12  Athens  37.97945  23.71622  672130.0  shop_1   adult-cola   \n",
       "\n",
       "  container capacity  price  quantity  \n",
       "0     glass    500ml   0.96   13280.0  \n",
       "1   plastic    1.5lt   2.86    6727.0  \n",
       "2       can    330ml   0.87    9848.0  \n",
       "3     glass    500ml   1.00   20050.0  \n",
       "4       can    330ml   0.39   25696.0  "
      ]
     },
     "execution_count": 4,
     "metadata": {},
     "output_type": "execute_result"
    }
   ],
   "source": [
    "originalTrain.head()"
   ]
  },
  {
   "cell_type": "code",
   "execution_count": 5,
   "metadata": {},
   "outputs": [
    {
     "data": {
      "text/html": [
       "<div>\n",
       "<style scoped>\n",
       "    .dataframe tbody tr th:only-of-type {\n",
       "        vertical-align: middle;\n",
       "    }\n",
       "\n",
       "    .dataframe tbody tr th {\n",
       "        vertical-align: top;\n",
       "    }\n",
       "\n",
       "    .dataframe thead th {\n",
       "        text-align: right;\n",
       "    }\n",
       "</style>\n",
       "<table border=\"1\" class=\"dataframe\">\n",
       "  <thead>\n",
       "    <tr style=\"text-align: right;\">\n",
       "      <th></th>\n",
       "      <th>id</th>\n",
       "      <th>date</th>\n",
       "      <th>city</th>\n",
       "      <th>lat</th>\n",
       "      <th>long</th>\n",
       "      <th>pop</th>\n",
       "      <th>shop</th>\n",
       "      <th>brand</th>\n",
       "      <th>container</th>\n",
       "      <th>capacity</th>\n",
       "      <th>price</th>\n",
       "      <th>quantity</th>\n",
       "    </tr>\n",
       "  </thead>\n",
       "  <tbody>\n",
       "    <tr>\n",
       "      <th>0</th>\n",
       "      <td>6480</td>\n",
       "      <td>31/01/18</td>\n",
       "      <td>Athens</td>\n",
       "      <td>37.97945</td>\n",
       "      <td>23.71622</td>\n",
       "      <td>664046</td>\n",
       "      <td>shop_1</td>\n",
       "      <td>kinder-cola</td>\n",
       "      <td>plastic</td>\n",
       "      <td>1.5lt</td>\n",
       "      <td>3.10</td>\n",
       "      <td>7056</td>\n",
       "    </tr>\n",
       "    <tr>\n",
       "      <th>1</th>\n",
       "      <td>6481</td>\n",
       "      <td>31/01/18</td>\n",
       "      <td>Athens</td>\n",
       "      <td>37.97945</td>\n",
       "      <td>23.71622</td>\n",
       "      <td>664046</td>\n",
       "      <td>shop_1</td>\n",
       "      <td>kinder-cola</td>\n",
       "      <td>can</td>\n",
       "      <td>330ml</td>\n",
       "      <td>0.85</td>\n",
       "      <td>12490</td>\n",
       "    </tr>\n",
       "    <tr>\n",
       "      <th>2</th>\n",
       "      <td>6482</td>\n",
       "      <td>31/01/18</td>\n",
       "      <td>Athens</td>\n",
       "      <td>37.97945</td>\n",
       "      <td>23.71622</td>\n",
       "      <td>664046</td>\n",
       "      <td>shop_1</td>\n",
       "      <td>adult-cola</td>\n",
       "      <td>glass</td>\n",
       "      <td>500ml</td>\n",
       "      <td>0.83</td>\n",
       "      <td>26640</td>\n",
       "    </tr>\n",
       "    <tr>\n",
       "      <th>3</th>\n",
       "      <td>6483</td>\n",
       "      <td>31/01/18</td>\n",
       "      <td>Athens</td>\n",
       "      <td>37.97945</td>\n",
       "      <td>23.71622</td>\n",
       "      <td>664046</td>\n",
       "      <td>shop_1</td>\n",
       "      <td>orange-power</td>\n",
       "      <td>glass</td>\n",
       "      <td>500ml</td>\n",
       "      <td>0.54</td>\n",
       "      <td>41892</td>\n",
       "    </tr>\n",
       "    <tr>\n",
       "      <th>4</th>\n",
       "      <td>6484</td>\n",
       "      <td>31/01/18</td>\n",
       "      <td>Athens</td>\n",
       "      <td>37.97945</td>\n",
       "      <td>23.71622</td>\n",
       "      <td>664046</td>\n",
       "      <td>shop_1</td>\n",
       "      <td>orange-power</td>\n",
       "      <td>plastic</td>\n",
       "      <td>1.5lt</td>\n",
       "      <td>0.83</td>\n",
       "      <td>22923</td>\n",
       "    </tr>\n",
       "  </tbody>\n",
       "</table>\n",
       "</div>"
      ],
      "text/plain": [
       "     id      date    city       lat      long     pop    shop         brand  \\\n",
       "0  6480  31/01/18  Athens  37.97945  23.71622  664046  shop_1   kinder-cola   \n",
       "1  6481  31/01/18  Athens  37.97945  23.71622  664046  shop_1   kinder-cola   \n",
       "2  6482  31/01/18  Athens  37.97945  23.71622  664046  shop_1    adult-cola   \n",
       "3  6483  31/01/18  Athens  37.97945  23.71622  664046  shop_1  orange-power   \n",
       "4  6484  31/01/18  Athens  37.97945  23.71622  664046  shop_1  orange-power   \n",
       "\n",
       "  container capacity  price  quantity  \n",
       "0   plastic    1.5lt   3.10      7056  \n",
       "1       can    330ml   0.85     12490  \n",
       "2     glass    500ml   0.83     26640  \n",
       "3     glass    500ml   0.54     41892  \n",
       "4   plastic    1.5lt   0.83     22923  "
      ]
     },
     "execution_count": 5,
     "metadata": {},
     "output_type": "execute_result"
    }
   ],
   "source": [
    "originalTest.head()"
   ]
  },
  {
   "cell_type": "code",
   "execution_count": 6,
   "metadata": {},
   "outputs": [
    {
     "data": {
      "text/html": [
       "<div>\n",
       "<style scoped>\n",
       "    .dataframe tbody tr th:only-of-type {\n",
       "        vertical-align: middle;\n",
       "    }\n",
       "\n",
       "    .dataframe tbody tr th {\n",
       "        vertical-align: top;\n",
       "    }\n",
       "\n",
       "    .dataframe thead th {\n",
       "        text-align: right;\n",
       "    }\n",
       "</style>\n",
       "<table border=\"1\" class=\"dataframe\">\n",
       "  <thead>\n",
       "    <tr style=\"text-align: right;\">\n",
       "      <th></th>\n",
       "      <th>id</th>\n",
       "      <th>lat</th>\n",
       "      <th>long</th>\n",
       "      <th>pop</th>\n",
       "      <th>price</th>\n",
       "      <th>quantity</th>\n",
       "    </tr>\n",
       "  </thead>\n",
       "  <tbody>\n",
       "    <tr>\n",
       "      <th>count</th>\n",
       "      <td>6480.000000</td>\n",
       "      <td>6429.000000</td>\n",
       "      <td>6434.000000</td>\n",
       "      <td>6480.000000</td>\n",
       "      <td>6480.000000</td>\n",
       "      <td>6480.000000</td>\n",
       "    </tr>\n",
       "    <tr>\n",
       "      <th>mean</th>\n",
       "      <td>3239.500000</td>\n",
       "      <td>38.301238</td>\n",
       "      <td>23.270246</td>\n",
       "      <td>355141.416667</td>\n",
       "      <td>1.188981</td>\n",
       "      <td>29431.855093</td>\n",
       "    </tr>\n",
       "    <tr>\n",
       "      <th>std</th>\n",
       "      <td>1870.759204</td>\n",
       "      <td>1.649771</td>\n",
       "      <td>1.086960</td>\n",
       "      <td>232828.796289</td>\n",
       "      <td>0.814567</td>\n",
       "      <td>17901.328301</td>\n",
       "    </tr>\n",
       "    <tr>\n",
       "      <th>min</th>\n",
       "      <td>0.000000</td>\n",
       "      <td>35.327870</td>\n",
       "      <td>21.734440</td>\n",
       "      <td>134219.000000</td>\n",
       "      <td>0.110000</td>\n",
       "      <td>2953.000000</td>\n",
       "    </tr>\n",
       "    <tr>\n",
       "      <th>25%</th>\n",
       "      <td>1619.750000</td>\n",
       "      <td>37.962450</td>\n",
       "      <td>22.417610</td>\n",
       "      <td>141439.750000</td>\n",
       "      <td>0.610000</td>\n",
       "      <td>16441.750000</td>\n",
       "    </tr>\n",
       "    <tr>\n",
       "      <th>50%</th>\n",
       "      <td>3239.500000</td>\n",
       "      <td>38.244440</td>\n",
       "      <td>22.930860</td>\n",
       "      <td>257501.500000</td>\n",
       "      <td>0.920000</td>\n",
       "      <td>25184.000000</td>\n",
       "    </tr>\n",
       "    <tr>\n",
       "      <th>75%</th>\n",
       "      <td>4859.250000</td>\n",
       "      <td>39.636890</td>\n",
       "      <td>23.716220</td>\n",
       "      <td>665871.000000</td>\n",
       "      <td>1.500000</td>\n",
       "      <td>37866.000000</td>\n",
       "    </tr>\n",
       "    <tr>\n",
       "      <th>max</th>\n",
       "      <td>6479.000000</td>\n",
       "      <td>40.643610</td>\n",
       "      <td>25.143410</td>\n",
       "      <td>672130.000000</td>\n",
       "      <td>4.540000</td>\n",
       "      <td>145287.000000</td>\n",
       "    </tr>\n",
       "  </tbody>\n",
       "</table>\n",
       "</div>"
      ],
      "text/plain": [
       "                id          lat         long            pop        price  \\\n",
       "count  6480.000000  6429.000000  6434.000000    6480.000000  6480.000000   \n",
       "mean   3239.500000    38.301238    23.270246  355141.416667     1.188981   \n",
       "std    1870.759204     1.649771     1.086960  232828.796289     0.814567   \n",
       "min       0.000000    35.327870    21.734440  134219.000000     0.110000   \n",
       "25%    1619.750000    37.962450    22.417610  141439.750000     0.610000   \n",
       "50%    3239.500000    38.244440    22.930860  257501.500000     0.920000   \n",
       "75%    4859.250000    39.636890    23.716220  665871.000000     1.500000   \n",
       "max    6479.000000    40.643610    25.143410  672130.000000     4.540000   \n",
       "\n",
       "            quantity  \n",
       "count    6480.000000  \n",
       "mean    29431.855093  \n",
       "std     17901.328301  \n",
       "min      2953.000000  \n",
       "25%     16441.750000  \n",
       "50%     25184.000000  \n",
       "75%     37866.000000  \n",
       "max    145287.000000  "
      ]
     },
     "execution_count": 6,
     "metadata": {},
     "output_type": "execute_result"
    }
   ],
   "source": [
    "originalTrain.describe()"
   ]
  },
  {
   "cell_type": "code",
   "execution_count": 7,
   "metadata": {},
   "outputs": [
    {
     "data": {
      "text/html": [
       "<div>\n",
       "<style scoped>\n",
       "    .dataframe tbody tr th:only-of-type {\n",
       "        vertical-align: middle;\n",
       "    }\n",
       "\n",
       "    .dataframe tbody tr th {\n",
       "        vertical-align: top;\n",
       "    }\n",
       "\n",
       "    .dataframe thead th {\n",
       "        text-align: right;\n",
       "    }\n",
       "</style>\n",
       "<table border=\"1\" class=\"dataframe\">\n",
       "  <thead>\n",
       "    <tr style=\"text-align: right;\">\n",
       "      <th></th>\n",
       "      <th>id</th>\n",
       "      <th>lat</th>\n",
       "      <th>long</th>\n",
       "      <th>pop</th>\n",
       "      <th>price</th>\n",
       "      <th>quantity</th>\n",
       "    </tr>\n",
       "  </thead>\n",
       "  <tbody>\n",
       "    <tr>\n",
       "      <th>count</th>\n",
       "      <td>1080.00000</td>\n",
       "      <td>1072.000000</td>\n",
       "      <td>1067.000000</td>\n",
       "      <td>1080.000000</td>\n",
       "      <td>1080.000000</td>\n",
       "      <td>1080.000000</td>\n",
       "    </tr>\n",
       "    <tr>\n",
       "      <th>mean</th>\n",
       "      <td>7019.50000</td>\n",
       "      <td>38.298228</td>\n",
       "      <td>23.269862</td>\n",
       "      <td>355370.166667</td>\n",
       "      <td>1.238454</td>\n",
       "      <td>29360.875926</td>\n",
       "    </tr>\n",
       "    <tr>\n",
       "      <th>std</th>\n",
       "      <td>311.91345</td>\n",
       "      <td>1.655656</td>\n",
       "      <td>1.088977</td>\n",
       "      <td>230207.452873</td>\n",
       "      <td>0.829449</td>\n",
       "      <td>16182.538761</td>\n",
       "    </tr>\n",
       "    <tr>\n",
       "      <th>min</th>\n",
       "      <td>6480.00000</td>\n",
       "      <td>35.327870</td>\n",
       "      <td>21.734440</td>\n",
       "      <td>137154.000000</td>\n",
       "      <td>0.230000</td>\n",
       "      <td>3523.000000</td>\n",
       "    </tr>\n",
       "    <tr>\n",
       "      <th>25%</th>\n",
       "      <td>6749.75000</td>\n",
       "      <td>37.962450</td>\n",
       "      <td>22.417610</td>\n",
       "      <td>144651.000000</td>\n",
       "      <td>0.650000</td>\n",
       "      <td>17229.750000</td>\n",
       "    </tr>\n",
       "    <tr>\n",
       "      <th>50%</th>\n",
       "      <td>7019.50000</td>\n",
       "      <td>38.244440</td>\n",
       "      <td>22.930860</td>\n",
       "      <td>261162.000000</td>\n",
       "      <td>0.980000</td>\n",
       "      <td>26010.500000</td>\n",
       "    </tr>\n",
       "    <tr>\n",
       "      <th>75%</th>\n",
       "      <td>7289.25000</td>\n",
       "      <td>39.636890</td>\n",
       "      <td>23.716220</td>\n",
       "      <td>664046.000000</td>\n",
       "      <td>1.555000</td>\n",
       "      <td>37421.750000</td>\n",
       "    </tr>\n",
       "    <tr>\n",
       "      <th>max</th>\n",
       "      <td>7559.00000</td>\n",
       "      <td>40.643610</td>\n",
       "      <td>25.143410</td>\n",
       "      <td>664046.000000</td>\n",
       "      <td>4.790000</td>\n",
       "      <td>116612.000000</td>\n",
       "    </tr>\n",
       "  </tbody>\n",
       "</table>\n",
       "</div>"
      ],
      "text/plain": [
       "               id          lat         long            pop        price  \\\n",
       "count  1080.00000  1072.000000  1067.000000    1080.000000  1080.000000   \n",
       "mean   7019.50000    38.298228    23.269862  355370.166667     1.238454   \n",
       "std     311.91345     1.655656     1.088977  230207.452873     0.829449   \n",
       "min    6480.00000    35.327870    21.734440  137154.000000     0.230000   \n",
       "25%    6749.75000    37.962450    22.417610  144651.000000     0.650000   \n",
       "50%    7019.50000    38.244440    22.930860  261162.000000     0.980000   \n",
       "75%    7289.25000    39.636890    23.716220  664046.000000     1.555000   \n",
       "max    7559.00000    40.643610    25.143410  664046.000000     4.790000   \n",
       "\n",
       "            quantity  \n",
       "count    1080.000000  \n",
       "mean    29360.875926  \n",
       "std     16182.538761  \n",
       "min      3523.000000  \n",
       "25%     17229.750000  \n",
       "50%     26010.500000  \n",
       "75%     37421.750000  \n",
       "max    116612.000000  "
      ]
     },
     "execution_count": 7,
     "metadata": {},
     "output_type": "execute_result"
    }
   ],
   "source": [
    "originalTest.describe()"
   ]
  },
  {
   "cell_type": "markdown",
   "metadata": {},
   "source": [
    "<li>Id column looks useless, so we can safely drop it from both. I'm going to save our target (quantity) on a different variable so we can use it in future.</li>\n",
    "<li>Lets first make a copy of the dataframes so we can keep the originals intact</li>"
   ]
  },
  {
   "cell_type": "code",
   "execution_count": 8,
   "metadata": {},
   "outputs": [],
   "source": [
    "train = originalTrain.copy()\n",
    "test = originalTest.copy()\n",
    "\n",
    "#Dropping unnecessary Id column.\n",
    "\n",
    "train.drop('id', axis=1, inplace=True)\n",
    "test.drop('id', axis=1, inplace=True)\n",
    "\n",
    "#Dropping rows without quantity\n",
    "\n",
    "train.dropna(axis=0, subset=['quantity'], inplace=True)\n",
    "test.dropna(axis=0, subset=['quantity'],inplace=True)\n",
    "\n",
    "#Backing up target variables and dropping them from train data.\n",
    "y_train = train['quantity']\n",
    "X_train = train\n",
    "X_train.drop(columns=[\"quantity\"], inplace=True)\n",
    "\n",
    "y_test = test['quantity']\n",
    "X_test = test\n",
    "X_test.drop(columns=[\"quantity\"], inplace=True)"
   ]
  },
  {
   "cell_type": "markdown",
   "metadata": {},
   "source": [
    "<h2>EDA</h2>\n",
    "<p>Exploratory Data Analysis</p>\n",
    "\n",
    "<p>We're going to start with basic correlation table here. I dropped the top part since it's just mirror of the other part below. With this table we can understand some linear relations between different features.</p>"
   ]
  },
  {
   "cell_type": "code",
   "execution_count": 9,
   "metadata": {},
   "outputs": [
    {
     "data": {
      "image/png": "[encoded data removed]",
      "text/plain": [
       "<Figure size 576x576 with 1 Axes>"
      ]
     },
     "metadata": {},
     "output_type": "display_data"
    }
   ],
   "source": [
    "# Display numerical correlations between features.\n",
    "\n",
    "sns.set(font_scale=1.2)\n",
    "correlation_train = train.corr()\n",
    "mask = np.triu(correlation_train.corr())\n",
    "plt.figure(figsize=(8, 8))\n",
    "sns.heatmap(correlation_train,\n",
    "            annot=True,\n",
    "            fmt='.1f',\n",
    "            cmap='coolwarm',\n",
    "            square=True,\n",
    "            mask=mask,\n",
    "            linewidths=1,\n",
    "            cbar=False)\n",
    "\n",
    "plt.show()"
   ]
  },
  {
   "cell_type": "markdown",
   "metadata": {},
   "source": [
    "<h4>Observations</h4>\n",
    "<li>We can see there's a negative correlation between quantity and price,\n",
    "indicating, that quantity tends to get lower as price increases </li>"
   ]
  },
  {
   "cell_type": "markdown",
   "metadata": {},
   "source": [
    "<h2>Missing Data</h2>\n",
    "<ul>\n",
    "    <li>Merge the datasets to see how many missing values there are and visualize them</li>\n",
    "</ul>"
   ]
  },
  {
   "cell_type": "code",
   "execution_count": 10,
   "metadata": {},
   "outputs": [
    {
     "name": "stdout",
     "output_type": "stream",
     "text": [
      "(7560, 10)\n"
     ]
    }
   ],
   "source": [
    "features = pd.concat([X_train, X_test]).reset_index(drop=True)\n",
    "#Lets see the new shape of the features dataframe\n",
    "print(features.shape)"
   ]
  },
  {
   "cell_type": "code",
   "execution_count": 11,
   "metadata": {},
   "outputs": [],
   "source": [
    "def missing_percentage(df):\n",
    "    \n",
    "    #Defining a function for returning missing ratios\n",
    "    \n",
    "    total = df.isnull().sum().sort_values(\n",
    "        ascending=False)[df.isnull().sum().sort_values(ascending=False) != 0]\n",
    "    percent = (df.isnull().sum().sort_values(ascending=False) / len(df) *\n",
    "              100)[(df.isnull().sum().sort_values(ascending=False) / len(df) *\n",
    "                   100) != 0]\n",
    "    return pd.concat([total, percent], axis=1, keys=['Total', 'Percent'])\n"
   ]
  },
  {
   "cell_type": "code",
   "execution_count": 12,
   "metadata": {},
   "outputs": [
    {
     "data": {
      "text/html": [
       "<style  type=\"text/css\" >\n",
       "#T_4862de98_1881_11eb_a356_7085c2526d2crow0_col0,#T_4862de98_1881_11eb_a356_7085c2526d2crow0_col1,#T_4862de98_1881_11eb_a356_7085c2526d2crow1_col0,#T_4862de98_1881_11eb_a356_7085c2526d2crow1_col1{\n",
       "            background-color:  #67000d;\n",
       "            color:  #f1f1f1;\n",
       "        }#T_4862de98_1881_11eb_a356_7085c2526d2crow0_col2,#T_4862de98_1881_11eb_a356_7085c2526d2crow0_col3,#T_4862de98_1881_11eb_a356_7085c2526d2crow1_col2,#T_4862de98_1881_11eb_a356_7085c2526d2crow1_col3{\n",
       "            background-color:  #fff5f0;\n",
       "            color:  #000000;\n",
       "        }</style><table id=\"T_4862de98_1881_11eb_a356_7085c2526d2c\" ><thead>    <tr>        <th class=\"blank level0\" ></th>        <th class=\"col_heading level0 col0\" >long</th>        <th class=\"col_heading level0 col1\" >lat</th>        <th class=\"col_heading level0 col2\" >capacity</th>        <th class=\"col_heading level0 col3\" >container</th>    </tr></thead><tbody>\n",
       "                <tr>\n",
       "                        <th id=\"T_4862de98_1881_11eb_a356_7085c2526d2clevel0_row0\" class=\"row_heading level0 row0\" >Total</th>\n",
       "                        <td id=\"T_4862de98_1881_11eb_a356_7085c2526d2crow0_col0\" class=\"data row0 col0\" >59.000000</td>\n",
       "                        <td id=\"T_4862de98_1881_11eb_a356_7085c2526d2crow0_col1\" class=\"data row0 col1\" >59.000000</td>\n",
       "                        <td id=\"T_4862de98_1881_11eb_a356_7085c2526d2crow0_col2\" class=\"data row0 col2\" >19.000000</td>\n",
       "                        <td id=\"T_4862de98_1881_11eb_a356_7085c2526d2crow0_col3\" class=\"data row0 col3\" >19.000000</td>\n",
       "            </tr>\n",
       "            <tr>\n",
       "                        <th id=\"T_4862de98_1881_11eb_a356_7085c2526d2clevel0_row1\" class=\"row_heading level0 row1\" >Percent</th>\n",
       "                        <td id=\"T_4862de98_1881_11eb_a356_7085c2526d2crow1_col0\" class=\"data row1 col0\" >0.780423</td>\n",
       "                        <td id=\"T_4862de98_1881_11eb_a356_7085c2526d2crow1_col1\" class=\"data row1 col1\" >0.780423</td>\n",
       "                        <td id=\"T_4862de98_1881_11eb_a356_7085c2526d2crow1_col2\" class=\"data row1 col2\" >0.251323</td>\n",
       "                        <td id=\"T_4862de98_1881_11eb_a356_7085c2526d2crow1_col3\" class=\"data row1 col3\" >0.251323</td>\n",
       "            </tr>\n",
       "    </tbody></table>"
      ],
      "text/plain": [
       "<pandas.io.formats.style.Styler at 0x203cf5e8d08>"
      ]
     },
     "metadata": {},
     "output_type": "display_data"
    },
    {
     "data": {
      "image/png": "[encoded data removed]",
      "text/plain": [
       "<Figure size 1440x360 with 1 Axes>"
      ]
     },
     "metadata": {},
     "output_type": "display_data"
    }
   ],
   "source": [
    "#Checking 'NaN' values.\n",
    "\n",
    "missing = missing_percentage(features)\n",
    "\n",
    "fig, ax = plt.subplots(figsize=(20, 5))\n",
    "sns.barplot(x=missing.index, y='Percent', data=missing, palette='Reds_r')\n",
    "plt.xticks(rotation=90)\n",
    "\n",
    "display(missing.T.style.background_gradient(cmap='Reds', axis=1))\n"
   ]
  },
  {
   "cell_type": "markdown",
   "metadata": {},
   "source": [
    "<h2>Pipeline</h2>\n",
    "<p>Steps:</p>\n",
    "<ol>\n",
    "    <li>Extract year, month and day from date so we can use them as numerical features</li>\n",
    "    <li>Add Year, Month and Day columns to the dataset</li>\n",
    "    <li>Eliminate date column from the dataset</li>\n",
    "    <li>\n",
    "        <ol>\n",
    "            <li>Fill long, lat, price and pop columns with their mean values</li>\n",
    "            <li>Fill capacity, brand, shop, container, city, year, month, day with their most-repeated values</li>\n",
    "        </ol>\n",
    "    </li>\n",
    "    <li>One Hot Encode capacity, brand, shop, container, city, year, month and day</li>\n",
    "    <li>Fit the model</li>\n",
    "</ol>"
   ]
  },
  {
   "cell_type": "code",
   "execution_count": 13,
   "metadata": {},
   "outputs": [
    {
     "name": "stderr",
     "output_type": "stream",
     "text": [
      "C:\\Users\\Juan\\.conda\\envs\\tf-gpu\\lib\\importlib\\_bootstrap.py:219: RuntimeWarning: numpy.ufunc size changed, may indicate binary incompatibility. Expected 192 from C header, got 216 from PyObject\n",
      "  return f(*args, **kwds)\n",
      "C:\\Users\\Juan\\.conda\\envs\\tf-gpu\\lib\\importlib\\_bootstrap.py:219: RuntimeWarning: numpy.ufunc size changed, may indicate binary incompatibility. Expected 192 from C header, got 216 from PyObject\n",
      "  return f(*args, **kwds)\n"
     ]
    }
   ],
   "source": [
    "#Import neccesary packages to create the pipeline\n",
    "from sklearn.preprocessing import OneHotEncoder\n",
    "from sklearn.pipeline import Pipeline"
   ]
  },
  {
   "cell_type": "code",
   "execution_count": 14,
   "metadata": {},
   "outputs": [],
   "source": [
    "#Import the BaseEstimator\n",
    "from sklearn.base import BaseEstimator\n",
    "\n",
    "#Define pre-processor classes\n",
    "class DateProcessor(BaseEstimator):\n",
    "\n",
    "    def __init__(self):\n",
    "        pass\n",
    "\n",
    "    def fit(self, documents, y=None):\n",
    "        return self\n",
    "\n",
    "    def transform(self, df):\n",
    "        new_df = df.copy()\n",
    "        new_df['date'] = pd.to_datetime(new_df['date'], errors=\"coerce\")\n",
    "        #df.dropna(axis=1, subset=['date'], inplace=True)\n",
    "        #format=\"%d%m%Y\",errors=\"ignore\"\n",
    "        new_df['day'] = new_df['date'].dt.day\n",
    "        new_df['month'] = new_df['date'].dt.month\n",
    "        new_df['year'] = new_df['date'].dt.year\n",
    "        \n",
    "        new_df.drop(inplace=True, columns='date')\n",
    "        return new_df\n",
    "\n",
    "class CategoricalProcessor(BaseEstimator):\n",
    "    def __init__(self):\n",
    "        pass\n",
    "    \n",
    "    def fit(self, documents, y=None):\n",
    "        return self\n",
    "    \n",
    "    def _getDictionary(self, df):\n",
    "        new_df = df.copy()\n",
    "        cat_columns = new_df.select_dtypes(include=['object']).columns\n",
    "        dict = {}\n",
    "        for col in cat_columns:\n",
    "            tempMode = new_df.mode()[col][0]\n",
    "            dict[col] = tempMode\n",
    "        \n",
    "        return dict\n",
    "    \n",
    "    def transform(self, df):\n",
    "        new_df = df.copy()\n",
    "        imputer = self._getDictionary(new_df)\n",
    "        new_df = new_df.fillna(imputer)\n",
    "        new_df = pd.get_dummies(new_df)\n",
    "        \n",
    "        return new_df\n",
    "    \n",
    "class NumericalProcessor(BaseEstimator):\n",
    "    def __init__(self):\n",
    "        pass\n",
    "    \n",
    "    def fit(self, documents, y=None):\n",
    "        return self\n",
    "    \n",
    "    def _getDictionary(self, df):\n",
    "        new_df = df.copy()\n",
    "        num_columns = new_df.select_dtypes(include=['float64', 'int64']).columns\n",
    "        dict = {}\n",
    "        for col in num_columns:\n",
    "            tempMean = new_df[col].mean()\n",
    "            dict[col] = tempMean\n",
    "        \n",
    "        return dict\n",
    "    \n",
    "    def transform(self, df):\n",
    "        new_df = df.copy()\n",
    "        imputer = self._getDictionary(new_df)\n",
    "        new_df = new_df.fillna(imputer)\n",
    "        \n",
    "        return new_df"
   ]
  },
  {
   "cell_type": "code",
   "execution_count": 22,
   "metadata": {},
   "outputs": [],
   "source": [
    "#Import the model and GridSearch for Hyperparameter Optimization\n",
    "import xgboost as xgb\n",
    "from sklearn.model_selection import GridSearchCV"
   ]
  },
  {
   "cell_type": "code",
   "execution_count": 24,
   "metadata": {},
   "outputs": [],
   "source": [
    "#Defining the pipeline\n",
    "xgb = xgb.XGBRegressor()\n",
    "model_pipeline = Pipeline(steps=[\n",
    "                                ('process_date', DateProcessor()),\n",
    "                                ('num_process', NumericalProcessor()),\n",
    "                                ('cat_process', CategoricalProcessor()),\n",
    "                                ('XGBoost', xgb)\n",
    "                                ])"
   ]
  },
  {
   "cell_type": "code",
   "execution_count": 27,
   "metadata": {},
   "outputs": [],
   "source": [
    "param_xgb = {'XGBoost__nthread':[4], #when use hyperthread, xgboost may become slower\n",
    "              'XGBoost__objective':['reg:linear'],\n",
    "              'XGBoost__learning_rate': [.03, 0.05, .07], #so called `eta` value\n",
    "              'XGBoost__max_depth': [5, 6, 7],\n",
    "              'XGBoost__min_child_weight': [4],\n",
    "              'XGBoost__silent': [1],\n",
    "              'XGBoost__subsample': [0.7],\n",
    "              'XGBoost__colsample_bytree': [0.7],\n",
    "              'XGBoost__tree_method': ['gpu_hist'],\n",
    "              'XGBoost__n_estimators': [500]}"
   ]
  },
  {
   "cell_type": "code",
   "execution_count": 29,
   "metadata": {},
   "outputs": [
    {
     "name": "stdout",
     "output_type": "stream",
     "text": [
      "Fitting 5 folds for each of 9 candidates, totalling 45 fits\n"
     ]
    },
    {
     "name": "stderr",
     "output_type": "stream",
     "text": [
      "[Parallel(n_jobs=-1)]: Using backend LokyBackend with 4 concurrent workers.\n",
      "[Parallel(n_jobs=-1)]: Done  33 tasks      | elapsed:  1.6min\n",
      "[Parallel(n_jobs=-1)]: Done  45 out of  45 | elapsed:  2.2min finished\n"
     ]
    },
    {
     "name": "stdout",
     "output_type": "stream",
     "text": [
      "[15:36:25] WARNING: C:/Users/Administrator/workspace/xgboost-win64_release_1.2.0/src/objective/regression_obj.cu:174: reg:linear is now deprecated in favor of reg:squarederror.\n",
      "[15:36:25] WARNING: C:\\Users\\Administrator\\workspace\\xgboost-win64_release_1.2.0\\src\\learner.cc:516: \n",
      "Parameters: { silent } might not be used.\n",
      "\n",
      "  This may not be accurate due to some parameters are only used in language bindings but\n",
      "  passed down to XGBoost core.  Or some parameters are not used but slip through this\n",
      "  verification. Please open an issue if you find above cases.\n",
      "\n",
      "\n",
      "[15:36:31] WARNING: C:/Users/Administrator/workspace/xgboost-win64_release_1.2.0/src/objective/regression_obj.cu:174: reg:linear is now deprecated in favor of reg:squarederror.\n"
     ]
    },
    {
     "data": {
      "text/plain": [
       "GridSearchCV(cv=5,\n",
       "             estimator=Pipeline(steps=[('process_date', DateProcessor()),\n",
       "                                       ('num_process', NumericalProcessor()),\n",
       "                                       ('cat_process', CategoricalProcessor()),\n",
       "                                       ('XGBoost',\n",
       "                                        XGBRegressor(base_score=None,\n",
       "                                                     booster=None,\n",
       "                                                     colsample_bylevel=None,\n",
       "                                                     colsample_bynode=None,\n",
       "                                                     colsample_bytree=None,\n",
       "                                                     gamma=None, gpu_id=None,\n",
       "                                                     importance_type='gain',\n",
       "                                                     interaction_constraints=None,\n",
       "                                                     le...\n",
       "                                                     verbosity=None))]),\n",
       "             n_jobs=-1,\n",
       "             param_grid={'XGBoost__colsample_bytree': [0.7],\n",
       "                         'XGBoost__learning_rate': [0.03, 0.05, 0.07],\n",
       "                         'XGBoost__max_depth': [5, 6, 7],\n",
       "                         'XGBoost__min_child_weight': [4],\n",
       "                         'XGBoost__n_estimators': [500],\n",
       "                         'XGBoost__nthread': [4],\n",
       "                         'XGBoost__objective': ['reg:linear'],\n",
       "                         'XGBoost__silent': [1], 'XGBoost__subsample': [0.7],\n",
       "                         'XGBoost__tree_method': ['gpu_hist']},\n",
       "             verbose=2)"
      ]
     },
     "execution_count": 29,
     "metadata": {},
     "output_type": "execute_result"
    }
   ],
   "source": [
    "grid_search_xgb = GridSearchCV(estimator = model_pipeline, param_grid = param_xgb, n_jobs = -1, verbose = 2, cv = 5)\n",
    "grid_search_xgb.fit(X_train, y_train)"
   ]
  },
  {
   "cell_type": "code",
   "execution_count": 33,
   "metadata": {},
   "outputs": [
    {
     "name": "stdout",
     "output_type": "stream",
     "text": [
      "Best parameter (CV score=0.973):\n",
      "{'XGBoost__colsample_bytree': 0.7, 'XGBoost__learning_rate': 0.07, 'XGBoost__max_depth': 7, 'XGBoost__min_child_weight': 4, 'XGBoost__n_estimators': 500, 'XGBoost__nthread': 4, 'XGBoost__objective': 'reg:linear', 'XGBoost__silent': 1, 'XGBoost__subsample': 0.7, 'XGBoost__tree_method': 'gpu_hist'}\n"
     ]
    }
   ],
   "source": [
    "#Lets observe the best parameters for our XGBRegressor\n",
    "print(\"Best parameter (CV score=%0.3f):\" % grid_search_xgb.best_score_)\n",
    "print(grid_search_xgb.best_params_)"
   ]
  },
  {
   "cell_type": "code",
   "execution_count": 35,
   "metadata": {},
   "outputs": [
    {
     "data": {
      "text/plain": [
       "0.9661486668861945"
      ]
     },
     "execution_count": 35,
     "metadata": {},
     "output_type": "execute_result"
    }
   ],
   "source": [
    "#Score of our model after Hyperparameter optimization\n",
    "grid_search_xgb.score(X_test, y_test)"
   ]
  },
  {
   "cell_type": "code",
   "execution_count": 34,
   "metadata": {},
   "outputs": [
    {
     "data": {
      "text/plain": [
       "0.9966150869923057"
      ]
     },
     "execution_count": 34,
     "metadata": {},
     "output_type": "execute_result"
    }
   ],
   "source": [
    "#Just to see\n",
    "grid_search_xgb.score(X_train, y_train)"
   ]
  }
 ],
 "metadata": {
  "kernelspec": {
   "display_name": "Python 3",
   "language": "python",
   "name": "python3"
  },
  "language_info": {
   "codemirror_mode": {
    "name": "ipython",
    "version": 3
   },
   "file_extension": ".py",
   "mimetype": "text/x-python",
   "name": "python",
   "nbconvert_exporter": "python",
   "pygments_lexer": "ipython3",
   "version": "3.7.9"
  }
 },
 "nbformat": 4,
 "nbformat_minor": 4
}
